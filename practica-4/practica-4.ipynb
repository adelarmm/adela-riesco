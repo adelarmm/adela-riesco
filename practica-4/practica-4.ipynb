{
 "cells": [
  {
   "cell_type": "markdown",
   "metadata": {},
   "source": [
    "# Práctica 4"
   ]
  },
  {
   "cell_type": "markdown",
   "metadata": {},
   "source": [
    "Url:https://cohesiondata.ec.europa.eu/Other-Eurobarometer/Eurobarometer-most-important-areas-for-EU-regional/frm6-299w"
   ]
  },
  {
   "cell_type": "markdown",
   "metadata": {},
   "source": [
    "El conjunto de datos seleccionado para esta práctica se corresponde con un eurobarómetro sobre las áreas de inversión más importantes en política regional. Es decir, se preguntó a diferentes ciudadanos de cada país miembro de la UE en qué considera que es prioritario que inverta dinero la UE para mejorar la calidad de vida en la región, ciudad o país de la que cada uno procede.\n",
    "\n",
    "Se les preguntó por 11 áreas de inversión, y respondieron qué mayor o menor importancia le otorgaban a cada una de ellas. Todos menos uno de los dominios se mencionan entre los más importantes para su ciudad o región por al menos una mayoría relativa de los encuestados.\n",
    "\n",
    "El archivo clasifica los datos en columnas por países, el área de inversión, nº de encuestados que encuentra como más importante esa opción, nº de encuestados que encuentra como menos importante esa opción, los porcentajes de cada uno, y una última columna con el nº total de encuestados en cada respuesta."
   ]
  },
  {
   "cell_type": "code",
   "execution_count": 19,
   "metadata": {
    "scrolled": true
   },
   "outputs": [
    {
     "name": "stdout",
     "output_type": "stream",
     "text": [
      "Requirement already satisfied: pandas in /usr/local/lib/python3.8/dist-packages (1.3.1)\r\n",
      "Requirement already satisfied: pytz>=2017.3 in /usr/local/lib/python3.8/dist-packages (from pandas) (2020.4)\r\n",
      "Requirement already satisfied: python-dateutil>=2.7.3 in /usr/local/lib/python3.8/dist-packages (from pandas) (2.8.1)\r\n",
      "Requirement already satisfied: numpy>=1.17.3 in /usr/local/lib/python3.8/dist-packages (from pandas) (1.21.1)\r\n",
      "Requirement already satisfied: six>=1.5 in /usr/lib/python3/dist-packages (from python-dateutil>=2.7.3->pandas) (1.14.0)\r\n"
     ]
    }
   ],
   "source": [
    "!pip install pandas"
   ]
  },
  {
   "cell_type": "code",
   "execution_count": 20,
   "metadata": {},
   "outputs": [],
   "source": [
    "import pandas as pd\n",
    "import json"
   ]
  },
  {
   "cell_type": "markdown",
   "metadata": {},
   "source": [
    "## Visualizando el conjunto de datos"
   ]
  },
  {
   "cell_type": "code",
   "execution_count": 21,
   "metadata": {},
   "outputs": [],
   "source": [
    "url='https://cohesiondata.ec.europa.eu/resource/frm6-299w.json'"
   ]
  },
  {
   "cell_type": "code",
   "execution_count": 22,
   "metadata": {},
   "outputs": [],
   "source": [
    "df=pd.read_json(url)"
   ]
  },
  {
   "cell_type": "code",
   "execution_count": 23,
   "metadata": {},
   "outputs": [
    {
     "data": {
      "text/html": [
       "<div>\n",
       "<style scoped>\n",
       "    .dataframe tbody tr th:only-of-type {\n",
       "        vertical-align: middle;\n",
       "    }\n",
       "\n",
       "    .dataframe tbody tr th {\n",
       "        vertical-align: top;\n",
       "    }\n",
       "\n",
       "    .dataframe thead th {\n",
       "        text-align: right;\n",
       "    }\n",
       "</style>\n",
       "<table border=\"1\" class=\"dataframe\">\n",
       "  <thead>\n",
       "    <tr style=\"text-align: right;\">\n",
       "      <th></th>\n",
       "      <th>eu_countries</th>\n",
       "      <th>answer_more_important</th>\n",
       "      <th>more_important</th>\n",
       "      <th>answer_less_important</th>\n",
       "      <th>less_important</th>\n",
       "      <th>answer_n_a</th>\n",
       "      <th>n_a</th>\n",
       "      <th>total</th>\n",
       "      <th>priority</th>\n",
       "    </tr>\n",
       "  </thead>\n",
       "  <tbody>\n",
       "    <tr>\n",
       "      <th>0</th>\n",
       "      <td>EU28</td>\n",
       "      <td>21594</td>\n",
       "      <td>0.80</td>\n",
       "      <td>5001</td>\n",
       "      <td>0.18</td>\n",
       "      <td>548</td>\n",
       "      <td>0.02</td>\n",
       "      <td>27144</td>\n",
       "      <td>Research and innovation</td>\n",
       "    </tr>\n",
       "    <tr>\n",
       "      <th>1</th>\n",
       "      <td>Belgium</td>\n",
       "      <td>763</td>\n",
       "      <td>0.76</td>\n",
       "      <td>231</td>\n",
       "      <td>0.23</td>\n",
       "      <td>13</td>\n",
       "      <td>0.01</td>\n",
       "      <td>1007</td>\n",
       "      <td>Research and innovation</td>\n",
       "    </tr>\n",
       "    <tr>\n",
       "      <th>2</th>\n",
       "      <td>Bulgaria</td>\n",
       "      <td>709</td>\n",
       "      <td>0.71</td>\n",
       "      <td>230</td>\n",
       "      <td>0.23</td>\n",
       "      <td>60</td>\n",
       "      <td>0.06</td>\n",
       "      <td>1000</td>\n",
       "      <td>Research and innovation</td>\n",
       "    </tr>\n",
       "    <tr>\n",
       "      <th>3</th>\n",
       "      <td>Czechia</td>\n",
       "      <td>750</td>\n",
       "      <td>0.75</td>\n",
       "      <td>223</td>\n",
       "      <td>0.22</td>\n",
       "      <td>27</td>\n",
       "      <td>0.03</td>\n",
       "      <td>1000</td>\n",
       "      <td>Research and innovation</td>\n",
       "    </tr>\n",
       "    <tr>\n",
       "      <th>4</th>\n",
       "      <td>Denmark</td>\n",
       "      <td>798</td>\n",
       "      <td>0.80</td>\n",
       "      <td>168</td>\n",
       "      <td>0.17</td>\n",
       "      <td>34</td>\n",
       "      <td>0.03</td>\n",
       "      <td>1000</td>\n",
       "      <td>Research and innovation</td>\n",
       "    </tr>\n",
       "    <tr>\n",
       "      <th>...</th>\n",
       "      <td>...</td>\n",
       "      <td>...</td>\n",
       "      <td>...</td>\n",
       "      <td>...</td>\n",
       "      <td>...</td>\n",
       "      <td>...</td>\n",
       "      <td>...</td>\n",
       "      <td>...</td>\n",
       "      <td>...</td>\n",
       "    </tr>\n",
       "    <tr>\n",
       "      <th>314</th>\n",
       "      <td>Slovenia</td>\n",
       "      <td>295</td>\n",
       "      <td>0.29</td>\n",
       "      <td>638</td>\n",
       "      <td>0.64</td>\n",
       "      <td>68</td>\n",
       "      <td>0.07</td>\n",
       "      <td>1001</td>\n",
       "      <td>Reception and integration of migrants and refu...</td>\n",
       "    </tr>\n",
       "    <tr>\n",
       "      <th>315</th>\n",
       "      <td>Slovakia</td>\n",
       "      <td>192</td>\n",
       "      <td>0.19</td>\n",
       "      <td>724</td>\n",
       "      <td>0.72</td>\n",
       "      <td>89</td>\n",
       "      <td>0.09</td>\n",
       "      <td>1005</td>\n",
       "      <td>Reception and integration of migrants and refu...</td>\n",
       "    </tr>\n",
       "    <tr>\n",
       "      <th>316</th>\n",
       "      <td>Finland</td>\n",
       "      <td>515</td>\n",
       "      <td>0.51</td>\n",
       "      <td>446</td>\n",
       "      <td>0.45</td>\n",
       "      <td>42</td>\n",
       "      <td>0.04</td>\n",
       "      <td>1003</td>\n",
       "      <td>Reception and integration of migrants and refu...</td>\n",
       "    </tr>\n",
       "    <tr>\n",
       "      <th>317</th>\n",
       "      <td>Sweden</td>\n",
       "      <td>710</td>\n",
       "      <td>0.71</td>\n",
       "      <td>250</td>\n",
       "      <td>0.25</td>\n",
       "      <td>41</td>\n",
       "      <td>0.04</td>\n",
       "      <td>1001</td>\n",
       "      <td>Reception and integration of migrants and refu...</td>\n",
       "    </tr>\n",
       "    <tr>\n",
       "      <th>318</th>\n",
       "      <td>United Kingdom</td>\n",
       "      <td>499</td>\n",
       "      <td>0.50</td>\n",
       "      <td>455</td>\n",
       "      <td>0.45</td>\n",
       "      <td>46</td>\n",
       "      <td>0.05</td>\n",
       "      <td>1000</td>\n",
       "      <td>Reception and integration of migrants and refu...</td>\n",
       "    </tr>\n",
       "  </tbody>\n",
       "</table>\n",
       "<p>319 rows × 9 columns</p>\n",
       "</div>"
      ],
      "text/plain": [
       "       eu_countries  answer_more_important  more_important  \\\n",
       "0              EU28                  21594            0.80   \n",
       "1           Belgium                    763            0.76   \n",
       "2          Bulgaria                    709            0.71   \n",
       "3           Czechia                    750            0.75   \n",
       "4           Denmark                    798            0.80   \n",
       "..              ...                    ...             ...   \n",
       "314        Slovenia                    295            0.29   \n",
       "315        Slovakia                    192            0.19   \n",
       "316         Finland                    515            0.51   \n",
       "317          Sweden                    710            0.71   \n",
       "318  United Kingdom                    499            0.50   \n",
       "\n",
       "     answer_less_important  less_important  answer_n_a   n_a  total  \\\n",
       "0                     5001            0.18         548  0.02  27144   \n",
       "1                      231            0.23          13  0.01   1007   \n",
       "2                      230            0.23          60  0.06   1000   \n",
       "3                      223            0.22          27  0.03   1000   \n",
       "4                      168            0.17          34  0.03   1000   \n",
       "..                     ...             ...         ...   ...    ...   \n",
       "314                    638            0.64          68  0.07   1001   \n",
       "315                    724            0.72          89  0.09   1005   \n",
       "316                    446            0.45          42  0.04   1003   \n",
       "317                    250            0.25          41  0.04   1001   \n",
       "318                    455            0.45          46  0.05   1000   \n",
       "\n",
       "                                              priority  \n",
       "0                              Research and innovation  \n",
       "1                              Research and innovation  \n",
       "2                              Research and innovation  \n",
       "3                              Research and innovation  \n",
       "4                              Research and innovation  \n",
       "..                                                 ...  \n",
       "314  Reception and integration of migrants and refu...  \n",
       "315  Reception and integration of migrants and refu...  \n",
       "316  Reception and integration of migrants and refu...  \n",
       "317  Reception and integration of migrants and refu...  \n",
       "318  Reception and integration of migrants and refu...  \n",
       "\n",
       "[319 rows x 9 columns]"
      ]
     },
     "execution_count": 23,
     "metadata": {},
     "output_type": "execute_result"
    }
   ],
   "source": [
    "df"
   ]
  },
  {
   "cell_type": "markdown",
   "metadata": {},
   "source": [
    "Aquí vemos la organización de datos explicada antes a partir del dataframe."
   ]
  },
  {
   "cell_type": "code",
   "execution_count": 24,
   "metadata": {},
   "outputs": [
    {
     "data": {
      "text/plain": [
       "<bound method DataFrame.info of        eu_countries  answer_more_important  more_important  \\\n",
       "0              EU28                  21594            0.80   \n",
       "1           Belgium                    763            0.76   \n",
       "2          Bulgaria                    709            0.71   \n",
       "3           Czechia                    750            0.75   \n",
       "4           Denmark                    798            0.80   \n",
       "..              ...                    ...             ...   \n",
       "314        Slovenia                    295            0.29   \n",
       "315        Slovakia                    192            0.19   \n",
       "316         Finland                    515            0.51   \n",
       "317          Sweden                    710            0.71   \n",
       "318  United Kingdom                    499            0.50   \n",
       "\n",
       "     answer_less_important  less_important  answer_n_a   n_a  total  \\\n",
       "0                     5001            0.18         548  0.02  27144   \n",
       "1                      231            0.23          13  0.01   1007   \n",
       "2                      230            0.23          60  0.06   1000   \n",
       "3                      223            0.22          27  0.03   1000   \n",
       "4                      168            0.17          34  0.03   1000   \n",
       "..                     ...             ...         ...   ...    ...   \n",
       "314                    638            0.64          68  0.07   1001   \n",
       "315                    724            0.72          89  0.09   1005   \n",
       "316                    446            0.45          42  0.04   1003   \n",
       "317                    250            0.25          41  0.04   1001   \n",
       "318                    455            0.45          46  0.05   1000   \n",
       "\n",
       "                                              priority  \n",
       "0                              Research and innovation  \n",
       "1                              Research and innovation  \n",
       "2                              Research and innovation  \n",
       "3                              Research and innovation  \n",
       "4                              Research and innovation  \n",
       "..                                                 ...  \n",
       "314  Reception and integration of migrants and refu...  \n",
       "315  Reception and integration of migrants and refu...  \n",
       "316  Reception and integration of migrants and refu...  \n",
       "317  Reception and integration of migrants and refu...  \n",
       "318  Reception and integration of migrants and refu...  \n",
       "\n",
       "[319 rows x 9 columns]>"
      ]
     },
     "execution_count": 24,
     "metadata": {},
     "output_type": "execute_result"
    }
   ],
   "source": [
    "df.info"
   ]
  },
  {
   "cell_type": "code",
   "execution_count": 39,
   "metadata": {
    "scrolled": true
   },
   "outputs": [
    {
     "data": {
      "text/plain": [
       "Index(['eu_countries', 'answer_more_important', 'more_important',\n",
       "       'answer_less_important', 'less_important', 'answer_n_a', 'n_a', 'total',\n",
       "       'priority'],\n",
       "      dtype='object')"
      ]
     },
     "execution_count": 39,
     "metadata": {},
     "output_type": "execute_result"
    }
   ],
   "source": [
    "df.columns"
   ]
  },
  {
   "cell_type": "code",
   "execution_count": 77,
   "metadata": {},
   "outputs": [
    {
     "data": {
      "text/plain": [
       "0      27144\n",
       "1       1007\n",
       "2       1000\n",
       "3       1000\n",
       "4       1000\n",
       "       ...  \n",
       "314     1001\n",
       "315     1005\n",
       "316     1003\n",
       "317     1001\n",
       "318     1000\n",
       "Name: total, Length: 319, dtype: int64"
      ]
     },
     "execution_count": 77,
     "metadata": {},
     "output_type": "execute_result"
    }
   ],
   "source": [
    "df['total']"
   ]
  },
  {
   "cell_type": "markdown",
   "metadata": {},
   "source": [
    "## Elaboración del gráfico"
   ]
  },
  {
   "cell_type": "code",
   "execution_count": 75,
   "metadata": {
    "scrolled": false
   },
   "outputs": [
    {
     "data": {
      "text/plain": [
       "priority\n",
       "Research and innovation                               21594\n",
       "Research and innovation                                 763\n",
       "Research and innovation                                 709\n",
       "Research and innovation                                 750\n",
       "Research and innovation                                 798\n",
       "                                                      ...  \n",
       "Reception and integration of migrants and refugees      295\n",
       "Reception and integration of migrants and refugees      192\n",
       "Reception and integration of migrants and refugees      515\n",
       "Reception and integration of migrants and refugees      710\n",
       "Reception and integration of migrants and refugees      499\n",
       "Name: answer_more_important, Length: 319, dtype: int64"
      ]
     },
     "execution_count": 75,
     "metadata": {},
     "output_type": "execute_result"
    }
   ],
   "source": [
    "df.set_index('priority')['answer_more_important']"
   ]
  },
  {
   "cell_type": "code",
   "execution_count": 76,
   "metadata": {
    "scrolled": true
   },
   "outputs": [
    {
     "data": {
      "text/plain": [
       "<AxesSubplot:title={'center':'Áreas de inversión más importantes para los europeos'}, xlabel='priority'>"
      ]
     },
     "execution_count": 76,
     "metadata": {},
     "output_type": "execute_result"
    },
    {
     "data": {
      "image/png": "[encoded data removed]",
      "text/plain": [
       "<Figure size 432x288 with 1 Axes>"
      ]
     },
     "metadata": {
      "needs_background": "light"
     },
     "output_type": "display_data"
    }
   ],
   "source": [
    "df.set_index('priority')['answer_more_important'].plot(title=\"Áreas de inversión más importantes para los europeos\")"
   ]
  },
  {
   "cell_type": "markdown",
   "metadata": {},
   "source": [
    "Podemos decir que ya tenemos la gráfica creada, que interpreta los datos de cuáles son las áreas de inversión más importantes para el conjunto de los encuestados europeos. No obstante, nosotros queremos observar adecuadamente el grado de apoyo de cada tipo de inversión que a la muestra le importa: migración, medioambiente... Con este tipo de visualización no podíamos verlo bien, así que a partir de la librería `madplotlib`, también dada en clase, he averiguar otra forma de visualización mejor: "
   ]
  },
  {
   "cell_type": "markdown",
   "metadata": {},
   "source": [
    "## Una correcta visualización"
   ]
  },
  {
   "cell_type": "code",
   "execution_count": 92,
   "metadata": {},
   "outputs": [],
   "source": [
    "import matplotlib.pyplot as plt "
   ]
  },
  {
   "cell_type": "code",
   "execution_count": 97,
   "metadata": {},
   "outputs": [
    {
     "data": {
      "image/png": "[encoded data removed]",
      "text/plain": [
       "<Figure size 432x288 with 1 Axes>"
      ]
     },
     "metadata": {
      "needs_background": "light"
     },
     "output_type": "display_data"
    }
   ],
   "source": [
    "plt.barh(df['priority'],df['answer_more_important'], color= 'green')\n",
    "plt.title(\"Áreas de inversión más importantes para los ciudadanos europeos\")\n",
    "plt.show()"
   ]
  }
 ],
 "metadata": {
  "kernelspec": {
   "display_name": "Python 3",
   "language": "python",
   "name": "python3"
  },
  "language_info": {
   "codemirror_mode": {
    "name": "ipython",
    "version": 3
   },
   "file_extension": ".py",
   "mimetype": "text/x-python",
   "name": "python",
   "nbconvert_exporter": "python",
   "pygments_lexer": "ipython3",
   "version": "3.8.10"
  }
 },
 "nbformat": 4,
 "nbformat_minor": 4
}
